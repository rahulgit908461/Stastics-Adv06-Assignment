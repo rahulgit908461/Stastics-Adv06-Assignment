{
 "cells": [
  {
   "cell_type": "code",
   "execution_count": 1,
   "id": "b26fe566-1f9f-49af-86f1-2cdcf89dfae8",
   "metadata": {},
   "outputs": [],
   "source": [
    "#Q1. Explain the assumptions required to use ANOVA and provide examples of violations that could impact\n",
    "#the validity of the results"
   ]
  },
  {
   "cell_type": "code",
   "execution_count": 2,
   "id": "7cfa66ea-f3be-460f-994c-f2c8e7f660f9",
   "metadata": {},
   "outputs": [],
   "source": [
    "# ANOVA assumes that the data is normally distributed. The ANOVA also assumes homogeneity of variance, \n",
    "#which means that the variance among the groups should be approximately equal. ANOVA also assumes that the \n",
    "#observations are independent of each other.\n",
    "#An ANOVA is quite robust against violations of the normality assumption, which means the Type 1 error rate \n",
    "#remains close to the alpha level specified in the test. Violations of the homogeneity of variances assumption \n",
    "#can be more impactful, especially when sample sizes are unequal between conditions."
   ]
  },
  {
   "cell_type": "code",
   "execution_count": 3,
   "id": "8ebab73b-dfc2-49fd-b5bf-ce3410f9589a",
   "metadata": {},
   "outputs": [],
   "source": [
    "#Q3.  What are the three types of ANOVA, and in what situations would each be used?"
   ]
  },
  {
   "cell_type": "code",
   "execution_count": 4,
   "id": "327d3782-454e-4d32-af22-80a0baa26e7b",
   "metadata": {},
   "outputs": [],
   "source": [
    "# Commonly, ANOVAs are used in three ways: one-way ANOVA, Repeated Measure ANOVA, Factorial ANOVA\n",
    "#one way ANOVA Used when one factor with atleast 2 levels, this level are independet\n",
    "#Repeated Measure ANOVA one factor 2 levels but levels are dependent \n",
    "#Factorial ANOVA two are more factor each of with atleast 2 level can be either independent and dependent"
   ]
  },
  {
   "cell_type": "code",
   "execution_count": 5,
   "id": "e2388adb-d2db-4dcc-90ed-f3a0d1ca30bb",
   "metadata": {},
   "outputs": [],
   "source": [
    "#Q3. What is the partitioning of variance in ANOVA, and why is it important to understand this concept?"
   ]
  },
  {
   "cell_type": "code",
   "execution_count": 6,
   "id": "239be857-4d0b-4fd3-9b2b-6f9355b6de4a",
   "metadata": {},
   "outputs": [],
   "source": [
    "#Analysis of Variance (ANOVA) is a statistical formula used to compare variances across the means (or average)\n",
    "#of different groups. A range of scenarios use it to determine if there is any difference between the means of\n",
    "#different groups.\n",
    "#Variation partitioning is a type of analysis that combines RDA and partial RDA to divide the variation of \n",
    "#a response variable among two, three or four explanatory data sets."
   ]
  },
  {
   "cell_type": "code",
   "execution_count": 7,
   "id": "abfac90f-a0fa-4c81-920a-6fb9bcf27f21",
   "metadata": {},
   "outputs": [],
   "source": [
    "#Q4. How would you calculate the total sum of squares (SST), explained sum of squares (SSE), and residual\n",
    "#sum of squares (SSR) in a one-way ANOVA using Python?"
   ]
  },
  {
   "cell_type": "code",
   "execution_count": 8,
   "id": "18de9807-5328-4c98-bbac-597a092bf336",
   "metadata": {},
   "outputs": [],
   "source": [
    "#Step 1: Calculate the mean of the sample. Step 2: Subtract the mean from each sample value, and square each \n",
    "#difference. Step 3: Sum these squared differences to calculate the Total Sum of Squares (SST).\n",
    "#In statistics, the residual sum of squares (RSS), also known as the sum of squared residuals (SSR) or \n",
    "#the sum of squared estimate of errors (SSE), is the sum of the squares of residuals (deviations predicted\n",
    "#from actual empirical values of data)."
   ]
  },
  {
   "cell_type": "code",
   "execution_count": 9,
   "id": "f6942122-30be-4ec8-a92d-e48ea8513c2f",
   "metadata": {},
   "outputs": [],
   "source": [
    "#Q5. In a two-way ANOVA, how would you calculate the main effects and interaction effects using Python?"
   ]
  },
  {
   "cell_type": "code",
   "execution_count": 11,
   "id": "39952043-7495-4bc9-a249-aa038fd277a2",
   "metadata": {},
   "outputs": [],
   "source": [
    "#ANOVA uses the F test, a groupwise comparison test, for statistical significance. It compares the variance \n",
    "#in each group's mean under different factors \n",
    "#Two-Way ANOVA Table. It is assumed that main effect A has a levels (and A = a-1 df), main effect B has b \n",
    "#levels (and B = b-1 df), n is the sample size of each treatment, and N = abn is the total sample size. Notice \n",
    "#the overall degrees of freedom is once again one less than the total sample size.\n",
    "\n",
    "#Step 1: Calculate Sum of Squares for First Factor\n",
    "#Step 2: Calculate Sum of Squares for Second Factor\n",
    "#Step 3: Calculate Sum of Squares Within (Error)\n",
    "#Step 4: Calculate Total Sum of Squares.\n",
    "#Step 5: Calculate Sum of Squares Interaction."
   ]
  },
  {
   "cell_type": "code",
   "execution_count": 12,
   "id": "7706e7e7-5f50-4cee-84a5-cf8a41c2f3d6",
   "metadata": {},
   "outputs": [],
   "source": [
    "#Q6. Suppose you conducted a one-way ANOVA and obtained an F-statistic of 5.23 and a p-value of 0.02.\n",
    "#What can you conclude about the differences between the groups, and how would you interpret these\n",
    "#results?"
   ]
  },
  {
   "cell_type": "code",
   "execution_count": 13,
   "id": "00074798-3df0-4ff4-9230-3d3b688c208d",
   "metadata": {},
   "outputs": [],
   "source": [
    "# F-Statistic =5.23 , P-value =0.02\n",
    "# so we can see if P<F Reject the null hypothysis \n",
    "#so between two groups much more diffrence to eachother.\n"
   ]
  },
  {
   "cell_type": "code",
   "execution_count": 14,
   "id": "d77e6ed5-c9df-4fb1-b0ae-9f070e4981ef",
   "metadata": {},
   "outputs": [],
   "source": [
    "#Q7. In a repeated measures ANOVA, how would you handle missing data, and what are the potential\n",
    "#consequences of using different methods to handle missing data?"
   ]
  },
  {
   "cell_type": "code",
   "execution_count": 15,
   "id": "c152bb26-16e3-415b-9065-c656839ba1d8",
   "metadata": {},
   "outputs": [],
   "source": [
    "#The problem is that repeated measures ANOVA treats each measurement as a separate variable. Because it uses\n",
    "#listwise deletion, if one measurement is missing, the entire case gets dropped.\n",
    "#One of the most effective ways of dealing with missing data is multiple imputation (MI). Using MI, we can \n",
    "#create multiple plausible replacements of the missing data, given what we have observed and a statistical \n",
    "#model (the imputation model)"
   ]
  },
  {
   "cell_type": "code",
   "execution_count": 16,
   "id": "52f381fb-d72d-47fa-81ee-98ae3f3466a2",
   "metadata": {},
   "outputs": [],
   "source": [
    "##Q8. What are some common post-hoc tests used after ANOVA, and when would you use each one? Provide\n",
    "#an example of a situation where a post-hoc test might be necessary."
   ]
  },
  {
   "cell_type": "code",
   "execution_count": 17,
   "id": "e3497d0f-ca37-400c-ab98-cccfb6afe009",
   "metadata": {},
   "outputs": [],
   "source": [
    "#The Bonferroni is probably the most commonly used post hoc test, because it is highly flexible, very \n",
    "#simple to compute, and can be used with any type of statistical tes.\n",
    "#The Latin phrase \"post hoc ergo propter hoc\" means \"after this, therefore because of this.\" The fallacy is \n",
    "#generally referred to by the shorter phrase, \"post hoc.\" Examples: \"Every time that rooster crows, the sun \n",
    "#comes up. That rooster must be very powerful and important\n",
    "\n",
    "#(Duncan Multiple Range test, Dunnett's Multiple Comparison test, Newman-Keuls test, Scheffe's test, Tukey's \n",
    "#HSD test, Fisher's LSD test, Sidak)."
   ]
  },
  {
   "cell_type": "code",
   "execution_count": 18,
   "id": "70cafd15-25c6-4baf-8ec6-ed8c2929a6d4",
   "metadata": {},
   "outputs": [],
   "source": [
    "#Q9. A researcher wants to compare the mean weight loss of three diets: A, B, and C. They collect data from\n",
    "#50 participants who were randomly assigned to one of the diets. Conduct a one-way ANOVA using Python\n",
    "#to determine if there are any significant differences between the mean weight loss of the three diets.\n",
    "#Report the F-statistic and p-value, and interpret the results"
   ]
  },
  {
   "cell_type": "code",
   "execution_count": null,
   "id": "8ec332ee-8a9d-4aa5-b2be-69686b5e9694",
   "metadata": {},
   "outputs": [],
   "source": [
    "# 3 diets : A,B,C  They collect data from 50 Participants "
   ]
  }
 ],
 "metadata": {
  "kernelspec": {
   "display_name": "Python 3 (ipykernel)",
   "language": "python",
   "name": "python3"
  },
  "language_info": {
   "codemirror_mode": {
    "name": "ipython",
    "version": 3
   },
   "file_extension": ".py",
   "mimetype": "text/x-python",
   "name": "python",
   "nbconvert_exporter": "python",
   "pygments_lexer": "ipython3",
   "version": "3.10.8"
  }
 },
 "nbformat": 4,
 "nbformat_minor": 5
}
